{
 "cells": [
  {
   "cell_type": "code",
   "execution_count": 26,
   "id": "62050526",
   "metadata": {},
   "outputs": [
    {
     "name": "stderr",
     "output_type": "stream",
     "text": [
      "[nltk_data] Downloading package stopwords to\n",
      "[nltk_data]     C:\\Users\\hp\\AppData\\Roaming\\nltk_data...\n",
      "[nltk_data]   Package stopwords is already up-to-date!\n"
     ]
    }
   ],
   "source": [
    "import pandas as pd\n",
    "import numpy as np\n",
    "import re\n",
    "import string\n",
    "from sklearn.model_selection import cross_val_score, StratifiedKFold, GridSearchCV, cross_val_predict\n",
    "from sklearn.feature_extraction.text import TfidfVectorizer\n",
    "from sklearn.svm import SVC\n",
    "from sklearn.metrics import classification_report, confusion_matrix\n",
    "from Sastrawi.Stemmer.StemmerFactory import StemmerFactory\n",
    "import nltk\n",
    "nltk.download('stopwords')\n",
    "from nltk.corpus import stopwords"
   ]
  },
  {
   "cell_type": "code",
   "execution_count": 27,
   "id": "a223fc0d",
   "metadata": {},
   "outputs": [
    {
     "name": "stdout",
     "output_type": "stream",
     "text": [
      "Index(['username', 'comment', 'time', 'likes', 'sentimen', 'Unnamed: 5'], dtype='object')\n"
     ]
    }
   ],
   "source": [
    "# Ganti path ke lokasi file Anda\n",
    "# Gunakan file dan kolom yang sesuai dengan komentar_vo3 _labeling.csv\n",
    "file_path = 'komentar_vo3 _labeling.csv'\n",
    "df = pd.read_csv(file_path)\n",
    "\n",
    "# Pastikan kolom yang diperlukan ada\n",
    "print(df.columns)\n",
    "# Gunakan kolom 'comment', 'likes', 'sentimen'\n",
    "df = df[['comment', 'likes', 'sentimen']]"
   ]
  },
  {
   "cell_type": "code",
   "execution_count": 28,
   "id": "f4b91434",
   "metadata": {},
   "outputs": [
    {
     "name": "stdout",
     "output_type": "stream",
     "text": [
      "Preprocessed data saved to preprocessed_comments.csv\n"
     ]
    }
   ],
   "source": [
    "# Preprocessing\n",
    "factory = StemmerFactory()\n",
    "stemmer = factory.create_stemmer()\n",
    "stop_words = set(stopwords.words('indonesian'))\n",
    "\n",
    "def preprocessing(text):\n",
    "    text = str(text).lower()\n",
    "    text = re.sub(r\"http\\S+\", \"\", text)\n",
    "    text = re.sub(r\"@\\w+|\\#\", \"\", text)\n",
    "    text = re.sub(r\"\\d+\", \"\", text)\n",
    "    text = text.translate(str.maketrans('', '', string.punctuation))\n",
    "    text = text.strip()\n",
    "    tokens = text.split()\n",
    "    tokens = [t for t in tokens if t not in stop_words]\n",
    "    text = ' '.join(tokens)\n",
    "    return stemmer.stem(text)\n",
    "\n",
    "df['clean_text'] = df['comment'].apply(preprocessing)\n",
    "\n",
    "# Save preprocessed data\n",
    "df.to_csv('preprocessed_comments.csv', index=False)\n",
    "print(\"Preprocessed data saved to preprocessed_comments.csv\")"
   ]
  },
  {
   "cell_type": "code",
   "execution_count": 29,
   "id": "549c97a4",
   "metadata": {},
   "outputs": [
    {
     "name": "stdout",
     "output_type": "stream",
     "text": [
      "TF-IDF matrix saved to tfidf_matrix.csv\n",
      "TF-IDF + likes features saved to tfidf_plus_likes.csv\n",
      "TF-IDF + likes features saved to tfidf_plus_likes.csv\n"
     ]
    }
   ],
   "source": [
    "# TF-IDF\n",
    "tfidf = TfidfVectorizer(max_features=5000)\n",
    "X_text = tfidf.fit_transform(df['clean_text'])\n",
    "\n",
    "# Save TF-IDF matrix\n",
    "tfidf_df = pd.DataFrame(X_text.toarray(), columns=tfidf.get_feature_names_out())\n",
    "tfidf_df.to_csv('tfidf_matrix.csv', index=False)\n",
    "print(\"TF-IDF matrix saved to tfidf_matrix.csv\")\n",
    "\n",
    "# Gabungkan dengan fitur numerik (likes)\n",
    "X_extra = df[['likes']].fillna(0).values\n",
    "from scipy.sparse import hstack\n",
    "X = hstack([X_text, X_extra])\n",
    "\n",
    "# Save combined features (TF-IDF + likes)\n",
    "combined_df = tfidf_df.copy()\n",
    "combined_df['likes'] = X_extra\n",
    "combined_df.to_csv('tfidf_plus_likes.csv', index=False)\n",
    "print(\"TF-IDF + likes features saved to tfidf_plus_likes.csv\")\n",
    "\n",
    "# Label: gunakan sentimen (1=positif, 0=netral, -1=negatif)\n",
    "y = df['sentimen']"
   ]
  },
  {
   "cell_type": "code",
   "execution_count": 30,
   "id": "cf1fb45e",
   "metadata": {},
   "outputs": [
    {
     "name": "stdout",
     "output_type": "stream",
     "text": [
      "Best params: {'C': 1, 'gamma': 'auto', 'kernel': 'rbf'}\n",
      "Best score: 0.49722222222222223\n"
     ]
    }
   ],
   "source": [
    "# Model SVM OVO\n",
    "from sklearn.utils import check_X_y\n",
    "\n",
    "# Pastikan tidak ada NaN di X dan y\n",
    "if hasattr(X, \"toarray\"):\n",
    "    X_dense = X.toarray()\n",
    "else:\n",
    "    X_dense = X\n",
    "X_dense = np.nan_to_num(X_dense)\n",
    "y = pd.to_numeric(y, errors='coerce').fillna(0).astype(int)\n",
    "\n",
    "# Pastikan jumlah sample sama\n",
    "X_dense, y = check_X_y(X_dense, y)\n",
    "\n",
    "svm = SVC(decision_function_shape='ovo')\n",
    "\n",
    "# Grid search (tuning)\n",
    "param_grid = {\n",
    "    'C': [0.1, 1, 10],\n",
    "    'gamma': ['scale', 'auto'],\n",
    "    'kernel': ['rbf']\n",
    "}\n",
    "\n",
    "# Jika data sangat sedikit, gunakan cv=2\n",
    "cv_val = min(4, len(y)) if len(y) >= 2 else 2\n",
    "\n",
    "grid = GridSearchCV(svm, param_grid, cv=cv_val, scoring='accuracy', n_jobs=-1)\n",
    "grid.fit(X_dense, y)\n",
    "\n",
    "print(\"Best params:\", grid.best_params_)\n",
    "print(\"Best score:\", grid.best_score_)"
   ]
  },
  {
   "cell_type": "code",
   "execution_count": 31,
   "id": "46fbc265",
   "metadata": {},
   "outputs": [
    {
     "name": "stdout",
     "output_type": "stream",
     "text": [
      "Predictions saved to sentiment_predictions.csv\n",
      "              precision    recall  f1-score   support\n",
      "\n",
      "          -1       0.00      0.00      0.00       132\n",
      "           0       0.50      0.99      0.66       356\n",
      "           1       0.60      0.01      0.03       230\n",
      "\n",
      "    accuracy                           0.50       718\n",
      "   macro avg       0.37      0.34      0.23       718\n",
      "weighted avg       0.44      0.50      0.34       718\n",
      "\n",
      "Confusion Matrix:\n",
      "[[  0 132   0]\n",
      " [  0 354   2]\n",
      " [  0 227   3]]\n"
     ]
    },
    {
     "name": "stderr",
     "output_type": "stream",
     "text": [
      "d:\\envs\\lkti\\lib\\site-packages\\sklearn\\metrics\\_classification.py:1565: UndefinedMetricWarning: Precision is ill-defined and being set to 0.0 in labels with no predicted samples. Use `zero_division` parameter to control this behavior.\n",
      "  _warn_prf(average, modifier, f\"{metric.capitalize()} is\", len(result))\n",
      "d:\\envs\\lkti\\lib\\site-packages\\sklearn\\metrics\\_classification.py:1565: UndefinedMetricWarning: Precision is ill-defined and being set to 0.0 in labels with no predicted samples. Use `zero_division` parameter to control this behavior.\n",
      "  _warn_prf(average, modifier, f\"{metric.capitalize()} is\", len(result))\n",
      "d:\\envs\\lkti\\lib\\site-packages\\sklearn\\metrics\\_classification.py:1565: UndefinedMetricWarning: Precision is ill-defined and being set to 0.0 in labels with no predicted samples. Use `zero_division` parameter to control this behavior.\n",
      "  _warn_prf(average, modifier, f\"{metric.capitalize()} is\", len(result))\n"
     ]
    }
   ],
   "source": [
    "# Evaluasi dengan cross_val_predict\n",
    "best_model = grid.best_estimator_\n",
    "y_pred = cross_val_predict(best_model, X, y, cv=4)\n",
    "\n",
    "# Save predictions\n",
    "results_df = df.copy()\n",
    "results_df['predicted_sentimen'] = y_pred\n",
    "results_df.to_csv('sentiment_predictions.csv', index=False)\n",
    "print(\"Predictions saved to sentiment_predictions.csv\")\n",
    "\n",
    "print(classification_report(y, y_pred))\n",
    "print(\"Confusion Matrix:\")\n",
    "print(confusion_matrix(y, y_pred))"
   ]
  }
 ],
 "metadata": {
  "kernelspec": {
   "display_name": "Python 3",
   "language": "python",
   "name": "python3"
  },
  "language_info": {
   "codemirror_mode": {
    "name": "ipython",
    "version": 3
   },
   "file_extension": ".py",
   "mimetype": "text/x-python",
   "name": "python",
   "nbconvert_exporter": "python",
   "pygments_lexer": "ipython3",
   "version": "3.10.18"
  }
 },
 "nbformat": 4,
 "nbformat_minor": 5
}
